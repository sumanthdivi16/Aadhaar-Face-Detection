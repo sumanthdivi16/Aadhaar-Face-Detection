{
 "cells": [
  {
   "cell_type": "markdown",
   "id": "388bd5ed-2140-420f-b8d6-7c9d81faa03e",
   "metadata": {},
   "source": [
    "# First we have to install the pip"
   ]
  },
  {
   "cell_type": "code",
   "execution_count": 1,
   "id": "f8324943-1218-46a7-ac27-80056d6f1149",
   "metadata": {},
   "outputs": [
    {
     "name": "stdout",
     "output_type": "stream",
     "text": [
      "Defaulting to user installation because normal site-packages is not writeable\n",
      "Requirement already satisfied: opencv-python in c:\\users\\sumanth\\appdata\\roaming\\python\\python312\\site-packages (4.10.0.84)\n",
      "Requirement already satisfied: opencv-contrib-python in c:\\users\\sumanth\\appdata\\roaming\\python\\python312\\site-packages (4.10.0.84)\n",
      "Requirement already satisfied: numpy>=1.21.2 in c:\\programdata\\anaconda3\\lib\\site-packages (from opencv-python) (1.26.4)\n",
      "Note: you may need to restart the kernel to use updated packages.\n"
     ]
    }
   ],
   "source": [
    "pip install --upgrade opencv-python opencv-contrib-python\n"
   ]
  },
  {
   "cell_type": "code",
   "execution_count": 2,
   "id": "50ee85b1-431d-4e88-8ad8-90906c679f8a",
   "metadata": {},
   "outputs": [
    {
     "name": "stdout",
     "output_type": "stream",
     "text": [
      "Defaulting to user installation because normal site-packages is not writeable\n",
      "Note: you may need to restart the kernel to use updated packages.\n"
     ]
    },
    {
     "name": "stderr",
     "output_type": "stream",
     "text": [
      "ERROR: Ignored the following yanked versions: 3.4.11.39, 3.4.17.61, 4.4.0.42, 4.4.0.44, 4.5.4.58, 4.5.5.62, 4.7.0.68\n",
      "ERROR: Could not find a version that satisfies the requirement opencv-python==4.10.1 (from versions: 3.4.0.14, 3.4.10.37, 3.4.11.41, 3.4.11.43, 3.4.11.45, 3.4.13.47, 3.4.15.55, 3.4.16.57, 3.4.16.59, 3.4.17.63, 3.4.18.65, 4.3.0.38, 4.4.0.40, 4.4.0.46, 4.5.1.48, 4.5.3.56, 4.5.4.60, 4.5.5.64, 4.6.0.66, 4.7.0.72, 4.8.0.74, 4.8.0.76, 4.8.1.78, 4.9.0.80, 4.10.0.82, 4.10.0.84)\n",
      "ERROR: No matching distribution found for opencv-python==4.10.1\n"
     ]
    }
   ],
   "source": [
    "pip install opencv-python==4.10.1 opencv-contrib-python==4.10.1"
   ]
  },
  {
   "cell_type": "code",
   "execution_count": 3,
   "id": "512ae056-e16c-406c-88c2-2b03deb57198",
   "metadata": {},
   "outputs": [],
   "source": [
    "import cv2"
   ]
  },
  {
   "cell_type": "code",
   "execution_count": null,
   "id": "decf7d0c-4634-4562-b670-9f302ce31a10",
   "metadata": {},
   "outputs": [],
   "source": [
    "print(cv2.__version__)"
   ]
  },
  {
   "cell_type": "code",
   "execution_count": null,
   "id": "76651ccd-dd5e-47cd-987e-a74c500f6f4d",
   "metadata": {},
   "outputs": [],
   "source": [
    "cv2.__version__"
   ]
  },
  {
   "cell_type": "code",
   "execution_count": 4,
   "id": "ce6f96f2-0a65-432a-9d6e-1655a3efaa13",
   "metadata": {},
   "outputs": [],
   "source": [
    "import numpy as np"
   ]
  },
  {
   "cell_type": "markdown",
   "id": "82e8eab3-ad55-4f82-ae5e-3bac41d105f0",
   "metadata": {},
   "source": [
    "# Load/Read image"
   ]
  },
  {
   "cell_type": "code",
   "execution_count": 16,
   "id": "aef92ffb-443f-4a06-8fae-54df44494441",
   "metadata": {},
   "outputs": [],
   "source": [
    "#load the image from your working directory folder\n",
    "my_img=cv2.imread('EAadhaar.jpg',0)\n",
    "\n",
    "#display the image\n",
    "cv2.imshow('my',my_img)\n",
    "cv2.waitKey(10000)\n",
    "cv2.destroyAllWindows()"
   ]
  },
  {
   "cell_type": "markdown",
   "id": "3d00f03e-8e14-4872-9bb2-8eb8265a2cdb",
   "metadata": {},
   "source": [
    "**Lets take a closer look at how the image are stored**"
   ]
  },
  {
   "cell_type": "code",
   "execution_count": 17,
   "id": "44b91c25-bf4b-461d-bd10-abec53a59d17",
   "metadata": {},
   "outputs": [],
   "source": [
    "#load the image\n",
    "my_img=cv2.imread('EAadhaar.jpg',1)"
   ]
  },
  {
   "cell_type": "code",
   "execution_count": null,
   "id": "52ba7844-deaa-4880-acec-22d56cfd4f14",
   "metadata": {},
   "outputs": [],
   "source": [
    "print(my_img)"
   ]
  },
  {
   "cell_type": "code",
   "execution_count": 9,
   "id": "14cf9603-6a9e-412e-9726-8d58e702e6b2",
   "metadata": {},
   "outputs": [
    {
     "data": {
      "text/plain": [
       "numpy.ndarray"
      ]
     },
     "execution_count": 9,
     "metadata": {},
     "output_type": "execute_result"
    }
   ],
   "source": [
    "#it gives the  type of img\n",
    "type(my_img)"
   ]
  },
  {
   "cell_type": "code",
   "execution_count": null,
   "id": "ea03b5d0-4474-4183-a013-3dc4d185e794",
   "metadata": {},
   "outputs": [],
   "source": [
    "#it gives the dimensions of the  image\n",
    "my_img.ndim"
   ]
  },
  {
   "cell_type": "code",
   "execution_count": null,
   "id": "85572f8c-5ec5-4dfa-84f0-5dc282346399",
   "metadata": {},
   "outputs": [],
   "source": [
    "#it gives the shape of the image\n",
    "my_img.shape"
   ]
  },
  {
   "cell_type": "markdown",
   "id": "fcff03de-3641-4c4a-8337-8de83b35c526",
   "metadata": {},
   "source": [
    "# Resize the image\n",
    "- if the pixels size more than your PC resolution for that we has to visible in the seperate window for that purpose we has to resize the image "
   ]
  },
  {
   "cell_type": "code",
   "execution_count": 32,
   "id": "12aebdd4-f9d1-4f59-8386-69154c16eed5",
   "metadata": {},
   "outputs": [],
   "source": [
    "my_img=cv2.imread('EAadhaar.jpg',1)\n",
    "\n",
    "resize_image=cv2.resize(my_img,(800,800))\n",
    "\n",
    "#one of the option to convert color to b/w\n",
    "                                               #gray = cv2.cvtColor(resize_image, cv2.COLOR_BGR2GRAY)\n",
    "\n",
    "cv2.imshow('EAadhaar',resize_image)\n",
    "cv2.waitKey()\n",
    "cv2.destroyAllWindows()"
   ]
  },
  {
   "cell_type": "markdown",
   "id": "3e22dbbf-9dc5-4b45-9662-11c0b674ac55",
   "metadata": {},
   "source": [
    "# Save the Image"
   ]
  },
  {
   "cell_type": "code",
   "execution_count": 33,
   "id": "b6e7af6f-e5ec-4c6c-8a4d-031697c35b58",
   "metadata": {},
   "outputs": [
    {
     "data": {
      "text/plain": [
       "True"
      ]
     },
     "execution_count": 33,
     "metadata": {},
     "output_type": "execute_result"
    }
   ],
   "source": [
    "#save the image as we need there we have original image,resize image & b/w image\n",
    "cv2.imwrite('my_color.jpg',resize_image)"
   ]
  },
  {
   "cell_type": "markdown",
   "id": "04bfb39d-7f80-43d1-ba17-635ca065ad80",
   "metadata": {},
   "source": [
    "# Computer Vision\n",
    "- Object detection as per your requirement\n",
    "- Ex:detect the face\n",
    "- EX:detect the eye"
   ]
  },
  {
   "cell_type": "markdown",
   "id": "71eedff7-5dd5-4fbc-a1f2-15e44d98d9fb",
   "metadata": {},
   "source": [
    "# Face detection using HAAR Cascade Classifier"
   ]
  },
  {
   "cell_type": "code",
   "execution_count": 34,
   "id": "3c9605f6-f109-4e5c-9225-8fd59a8747ff",
   "metadata": {},
   "outputs": [],
   "source": [
    "#apply onwhat you want to check\n",
    "image=cv2.imread('EAadhaar.jpg',1)\n",
    "\n",
    "image=cv2.resize(image,(800,800))\n",
    "\n",
    "gray=cv2.cvtColor(image,cv2.COLOR_BGR2GRAY)"
   ]
  },
  {
   "cell_type": "code",
   "execution_count": 35,
   "id": "bf66809e-b271-4617-82a7-cab5cb6f8622",
   "metadata": {},
   "outputs": [],
   "source": [
    "eye_classifier = cv2.CascadeClassifier(cv2.data.haarcascades + 'haarcascade_eye.xml')\n",
    "face_classifier = cv2.CascadeClassifier(cv2.data.haarcascades + 'haarcascade_frontalface_default.xml')\n"
   ]
  },
  {
   "cell_type": "code",
   "execution_count": 36,
   "id": "86d50ef2-0a3e-40af-b376-c5b265f55533",
   "metadata": {},
   "outputs": [
    {
     "name": "stderr",
     "output_type": "stream",
     "text": [
      "<>:4: SyntaxWarning: \"is\" with 'tuple' literal. Did you mean \"==\"?\n",
      "<>:4: SyntaxWarning: \"is\" with 'tuple' literal. Did you mean \"==\"?\n",
      "C:\\Users\\sumanth\\AppData\\Local\\Temp\\ipykernel_12756\\1760166632.py:4: SyntaxWarning: \"is\" with 'tuple' literal. Did you mean \"==\"?\n",
      "  if faces is ():\n"
     ]
    },
    {
     "name": "stdout",
     "output_type": "stream",
     "text": [
      "No face found\n"
     ]
    }
   ],
   "source": [
    "# matching the features on the given image\n",
    "faces=face_classifier.detectMultiScale(gray,2,8)\n",
    "\n",
    "if faces is ():\n",
    "    print('No face found')\n",
    "\n",
    "else:\n",
    "    for (x,y,l,h) in faces:\n",
    "        cv2.rectangle(image,(x,y),(x+l,y+h),(255,0,255),5)\n",
    "\n",
    "cv2.imshow('left sholder Detection',image)\n",
    "cv2.waitKey()\n",
    "cv2.destroyAllWindows()"
   ]
  },
  {
   "cell_type": "code",
   "execution_count": null,
   "id": "119bd69d-87ae-4e2a-a7d7-b58d93c431c9",
   "metadata": {},
   "outputs": [],
   "source": []
  },
  {
   "cell_type": "code",
   "execution_count": null,
   "id": "532d2a24-2194-4124-b78f-a562270e8bb0",
   "metadata": {},
   "outputs": [],
   "source": []
  },
  {
   "cell_type": "code",
   "execution_count": null,
   "id": "fd7683ed-2e16-4f5f-a6a3-4280d6df3f33",
   "metadata": {},
   "outputs": [],
   "source": []
  },
  {
   "cell_type": "code",
   "execution_count": null,
   "id": "5403946d-c679-4d0a-982f-7a76557751a3",
   "metadata": {},
   "outputs": [],
   "source": []
  },
  {
   "cell_type": "code",
   "execution_count": null,
   "id": "370e6644-eff9-4d80-9a72-9c802e78b8cb",
   "metadata": {},
   "outputs": [],
   "source": []
  },
  {
   "cell_type": "code",
   "execution_count": null,
   "id": "7ec6c459-a642-4c67-b5da-eab8284b8457",
   "metadata": {},
   "outputs": [],
   "source": []
  },
  {
   "cell_type": "code",
   "execution_count": null,
   "id": "f8865666-c12e-4780-9dd4-87e59c869e39",
   "metadata": {},
   "outputs": [],
   "source": [
    "\n"
   ]
  },
  {
   "cell_type": "code",
   "execution_count": null,
   "id": "c579c4ff-d3f2-47f8-a413-d683d369bf40",
   "metadata": {},
   "outputs": [],
   "source": [
    "\n",
    "\n",
    "\n"
   ]
  }
 ],
 "metadata": {
  "kernelspec": {
   "display_name": "Python 3 (ipykernel)",
   "language": "python",
   "name": "python3"
  },
  "language_info": {
   "codemirror_mode": {
    "name": "ipython",
    "version": 3
   },
   "file_extension": ".py",
   "mimetype": "text/x-python",
   "name": "python",
   "nbconvert_exporter": "python",
   "pygments_lexer": "ipython3",
   "version": "3.12.4"
  }
 },
 "nbformat": 4,
 "nbformat_minor": 5
}
